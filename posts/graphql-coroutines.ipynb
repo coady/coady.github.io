{
 "cells": [
  {
   "attachments": {},
   "cell_type": "raw",
   "metadata": {},
   "source": [
    "---\n",
    "title: GraphQL coroutines\n",
    "subtitle: GraphQL resolvers should have been coroutines.\n",
    "author: A. Coady\n",
    "date: 2023-02-20\n",
    "categories: [graphql]\n",
    "---"
   ]
  },
  {
   "attachments": {},
   "cell_type": "markdown",
   "metadata": {},
   "source": [
    "# GraphQL resolvers should have been coroutines.\n",
    "This is how the GraphQL documentation [introduces execution](https://graphql.org/learn/execution/), as a hierarchy of resolvers:\n",
    "\n",
    "> You can think of each field in a GraphQL query as a function or method of the previous type which returns the next type. In fact, this is exactly how GraphQL works. Each field on each type is backed by a function called the resolver which is provided by the GraphQL server developer. When a field is executed, the corresponding resolver is called to produce the next value.\n",
    ">\n",
    ">If a field produces a scalar value like a string or number, then the execution completes. However if a field produces an object value then the query will contain another selection of fields which apply to that object. This continues until scalar values are reached. GraphQL queries always end at scalar values.\n",
    "\n",
    "There is a subtlety in the summary which is left as an exercise to the reader. The previous type must _prepare_ the next types correctly such that their resolvers succeed. Specifically, all the trivial fields of the next type must be populated, not only because they may be requested, but because the next type's resolvers invariably rely on that data.\n",
    "\n",
    "It is as if parent types have a `pre` or `start` hook to setup child types. When framed that way, it becomes obvious that there is no `post` or `end` hook for a parent to finalize its result. Consider how unusual that is:\n",
    "\n",
    "* test frameworks have fixture `setUp` and `tearDown`\n",
    "* web frameworks have hooks around both sides of a stage in a request flow\n",
    "* inherited methods which support `super` allow code before and after the `super` call\n",
    "\n",
    "Whereas GraphQL resolvers can only provide context to child fields, with no visibility into the result. It would be like only allowing `super` as the last line in a method.\n",
    "\n",
    "## Example\n",
    "The effect is an entire class of common problems which should be trivial. Typically - but not limited too - lists of objects which have since been deleted or for which the user is not authorized. The problem can be seen in the best practices [example on authorization](https://graphql.org/learn/authorization/).\n",
    "\n",
    "> Authorization is a type of business logic that describes whether a given user/session/context has permission to perform an action or see a piece of data. For example:\n",
    ">\n",
    "> “Only authors can see their drafts”\n",
    "\n",
    "..."
   ]
  },
  {
   "cell_type": "code",
   "execution_count": null,
   "metadata": {
    "vscode": {
     "languageId": "javascript"
    }
   },
   "outputs": [],
   "source": [
    "//Authorization logic lives inside postRepository\n",
    "var postRepository = require('postRepository');\n",
    "\n",
    "var postType = new GraphQLObjectType({\n",
    "  name: ‘Post’,\n",
    "  fields: {\n",
    "    body: {\n",
    "      type: GraphQLString,\n",
    "      resolve: (post, args, context, { rootValue }) => {\n",
    "        return postRepository.getBody(context.user, post);\n",
    "      }\n",
    "    }\n",
    "  }\n",
    "});"
   ]
  },
  {
   "attachments": {},
   "cell_type": "markdown",
   "metadata": {},
   "source": [
    "The incomplete example does _not_ implement \"only authors can see their drafts\". It implements \"only authors can see the `body` field of a draft\". But the user would still know the post exists and see all metadata which is not protected. \"Drafts\" being plural and all, a parent field with a list of `posts` is missing from the example. Surely the preferred solution would be to not return the unauthorized post in the list at all.\n",
    "\n",
    "The same problem exists if the post should be hidden for any reason, including deletion. It cannot be overstated how common a problem this is in real world APIs, and GraphQL offers no solution.\n",
    "\n",
    "Well, as constructed. The workaround is to abandon the premise of the example and push the authorization logic up to the `posts` field. But even that fails to address race conditions, which are particularly relevant for deletions.\n",
    "\n",
    "Interestingly, it would also be more efficient if the query which determined the list of posts were \"correct\" in the first place. This relates to a previous article [GraphQL is the new ORM](graphql-orm.html), which focused on performance. Ultimately this is the same issue: **the elegance of single-purpose resolvers fails when context has been lost, and that failure is especially common and noticeable when lists are involved**.\n",
    "\n",
    "## Solution\n",
    "A general solution would be to allow resolvers to be coroutines, or equivalently to allow a `finalize` resolver. Here is an example implemented in [graphql-core](https://github.com/graphql-python/graphql-core):"
   ]
  },
  {
   "cell_type": "code",
   "execution_count": null,
   "metadata": {},
   "outputs": [],
   "source": [
    "--- a/src/graphql/execution/execute.py\n",
    "+++ b/src/graphql/execution/execute.py\n",
    "@@ -546,6 +546,8 @@ class ExecutionContext:\n",
    "             completed = self.complete_value(\n",
    "                 return_type, field_nodes, info, path, result\n",
    "             )\n",
    "+            if field_def.finalize is not None:\n",
    "+                completed = field_def.finalize(completed, info, *args)\n",
    "             if self.is_awaitable(completed):\n",
    "                 # noinspection PyShadowingNames\n",
    "                 async def await_completed() -> Any:\n",
    "diff --git a/src/graphql/type/definition.py b/src/graphql/type/definition.py\n",
    "\n",
    "--- a/src/graphql/type/definition.py\n",
    "+++ b/src/graphql/type/definition.py\n",
    "@@ -471,6 +471,7 @@ class GraphQLField:\n",
    "     deprecation_reason: Optional[str]\n",
    "     extensions: Dict[str, Any]\n",
    "     ast_node: Optional[FieldDefinitionNode]\n",
    "+    finalize: Optional[GraphQLFieldResolver]\n",
    " \n",
    "     def __init__(\n",
    "         self,\n",
    "@@ -482,6 +483,7 @@ class GraphQLField:\n",
    "         deprecation_reason: Optional[str] = None,\n",
    "         extensions: Optional[Dict[str, Any]] = None,\n",
    "         ast_node: Optional[FieldDefinitionNode] = None,\n",
    "+        finalize: Optional[GraphQLFieldResolver] = None,\n",
    "     ) -> None:\n",
    "         if args:\n",
    "             args = {\n",
    "@@ -500,6 +502,7 @@ class GraphQLField:\n",
    "         self.deprecation_reason = deprecation_reason\n",
    "         self.extensions = extensions or {}\n",
    "         self.ast_node = ast_node\n",
    "+        self.finalize = finalize\n",
    " \n",
    "     def __repr__(self) -> str:\n",
    "         return f\"<{self.__class__.__name__} {self.type!r}>\""
   ]
  },
  {
   "attachments": {},
   "cell_type": "markdown",
   "metadata": {},
   "source": [
    "With that minor extension, fields can supply a `finalize` resolver in addition to the usual one."
   ]
  },
  {
   "cell_type": "code",
   "execution_count": 1,
   "metadata": {},
   "outputs": [
    {
     "name": "stdout",
     "output_type": "stream",
     "text": [
      "type Query {\n",
      "  posts: [Post!]!\n",
      "}\n",
      "\n",
      "type Post {\n",
      "  id: Int!\n",
      "  body: String\n",
      "}\n"
     ]
    }
   ],
   "source": [
    "from dataclasses import dataclass\n",
    "from graphql import (\n",
    "    GraphQLField,\n",
    "    GraphQLInt,\n",
    "    GraphQLList,\n",
    "    GraphQLNonNull,\n",
    "    GraphQLObjectType,\n",
    "    GraphQLSchema,\n",
    "    GraphQLString,\n",
    "    graphql_sync,\n",
    "    print_schema,\n",
    ")\n",
    "\n",
    "post_data = {1: \"first\"}\n",
    "\n",
    "\n",
    "@dataclass\n",
    "class Post:\n",
    "    id: int\n",
    "\n",
    "    def body(self, info) -> str:\n",
    "        return post_data.get(self.id)\n",
    "\n",
    "\n",
    "postType = GraphQLObjectType(\n",
    "    name=\"Post\",\n",
    "    fields={\n",
    "        \"id\": GraphQLNonNull(GraphQLInt),\n",
    "        \"body\": GraphQLField(GraphQLString, resolve=Post.body),\n",
    "    },\n",
    ")\n",
    "\n",
    "postsField = GraphQLField(\n",
    "    GraphQLNonNull(GraphQLList(GraphQLNonNull(postType))),\n",
    "    resolve=lambda *_: [Post(1), Post(2)],\n",
    "    finalize=lambda objs, _: [obj for obj in objs if obj[\"body\"] is not None],\n",
    ")\n",
    "\n",
    "schema = GraphQLSchema(\n",
    "    query=GraphQLObjectType(name=\"Query\", fields={\"posts\": postsField})\n",
    ")\n",
    "print(print_schema(schema))"
   ]
  },
  {
   "cell_type": "code",
   "execution_count": 2,
   "metadata": {},
   "outputs": [
    {
     "data": {
      "text/plain": [
       "ExecutionResult(data={'posts': [{'id': 1, 'body': 'first'}]}, errors=None)"
      ]
     },
     "execution_count": 2,
     "metadata": {},
     "output_type": "execute_result"
    }
   ],
   "source": [
    "source = \"{ posts { id body } }\"\n",
    "graphql_sync(schema, source)"
   ]
  },
  {
   "attachments": {},
   "cell_type": "markdown",
   "metadata": {},
   "source": [
    "## Addendum\n",
    "In Python, this could be implemented as a generator-based coroutine. Similar to [contextlib.contextmanager](https://docs.python.org/3/library/contextlib.html#contextlib.contextmanager) or [pytest fixtures](https://docs.pytest.org/en/7.2.x/how-to/fixtures.html#yield-fixtures-recommended), the generator would yield types, receive the result maps, and yield one more final result."
   ]
  },
  {
   "cell_type": "code",
   "execution_count": null,
   "metadata": {},
   "outputs": [],
   "source": [
    "def resolve(*_):\n",
    "    objs = yield [Post(1), Post(2)]\n",
    "    yield [obj for obj in objs if obj[\"body\"] is not None]"
   ]
  },
  {
   "attachments": {},
   "cell_type": "markdown",
   "metadata": {},
   "source": [
    "But there are some obstacles to that approach. The result data is in map (`dict`) form, not the domain types, so the code is not necessarily more readable. Additionally, generators can already be used to implement list types (whether intentional or not); `graphql-core` simply iterates the result. There would need to be another mechanism to distinguish a true coroutine from a regular generator.\n",
    "\n",
    "Speaking of domain types, notice how convenient and readable using a `dataclass` is, and how redundant the GraphQL type definition is. In [strawberry-graphql](https://strawberry.rocks), the schema is automatically derived from the domain types. The example would be simply:"
   ]
  },
  {
   "cell_type": "code",
   "execution_count": null,
   "metadata": {},
   "outputs": [],
   "source": [
    "@strawberry.type\n",
    "class Post:\n",
    "    id: int\n",
    "\n",
    "    @strawberry.field\n",
    "    def body(self) -> str:\n",
    "        return post_data.get(self.id)"
   ]
  }
 ],
 "metadata": {
  "kernelspec": {
   "display_name": "Python 3",
   "language": "python",
   "name": "python3"
  },
  "language_info": {
   "codemirror_mode": {
    "name": "ipython",
    "version": 3
   },
   "file_extension": ".py",
   "mimetype": "text/x-python",
   "name": "python",
   "nbconvert_exporter": "python",
   "pygments_lexer": "ipython3",
   "version": "3.11.2"
  },
  "vscode": {
   "interpreter": {
    "hash": "6ecdebf77f2ee3a47348d003f751c63e810ca996c1c68d1179f338200fa83b34"
   }
  }
 },
 "nbformat": 4,
 "nbformat_minor": 4
}
