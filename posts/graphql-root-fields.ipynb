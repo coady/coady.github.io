{
 "cells": [
  {
   "cell_type": "raw",
   "metadata": {},
   "source": [
    "---\n",
    "title: GraphQL root fields\n",
    "subtitle: There is no such thing as a \"root field\".\n",
    "author: A. Coady\n",
    "date: 2024-04-12\n",
    "categories: [graphql]\n",
    "---"
   ]
  },
  {
   "cell_type": "markdown",
   "metadata": {
    "collapsed": true
   },
   "source": [
    "# There is no such thing as a \"root field\".\n",
    "There is a common - seemingly universal - misconception that [GraphQL](https://graphql.org) root fields are somehow special, in both usage and implementation. The better conceptual model is that there are root *types*, and all types have fields. The difference is not just semantics; it leads to actual misunderstandings. \n",
    "\n",
    "## Multiple queries\n",
    "A common beginner question is \"can there be multiple queries in a request\". The question would be better phrased as \"can multiple fields on the root query type be requested\". The answer is of course, because requesting multiple fields on a type is normal. The implementation would have to go out of its way to restrict that behavior on just the root type. The only need for further clarity would be to [introduce aliases](https://graphql.org/learn/queries/#aliases) for duplicate fields.\n",
    "\n",
    "## Flat namespace\n",
    "GraphQL types share a global namespace, causing conflicts when federating multiple graphs. Nothing can be done about that unless GraphQL adopts [namespaces](https://github.com/graphql/graphql-spec/issues/163).\n",
    "\n",
    "But many APIs design the root query type to have unnecessarily flat fields. One often sees a hierarchy of types and fields below the root, but the top-level fields resemble a loose collections of functions. Verbs at the top level; nouns the rest of the way down. This design choice appears to be in a feedback loop with the notion of \"root fields\".\n",
    "\n",
    "Even the convention of calling the root query type `Query` demonstrates a lack of specificity. In a service-oriented architecture, a particular service might be more narrowly defined.\n",
    "\n",
    "## Mutations\n",
    "Top-level mutation fields are special in one aspect: they are [executed in order](https://graphql.org/learn/queries/#multiple-fields-in-mutations). This has resulted in even flatter namespaces for mutations,\n",
    "```graphql\n",
    "mutation {\n",
    "    createUser # executed first\n",
    "    deleteUser\n",
    "}\n",
    "```\n",
    "\n",
    "This is not necessary, but seems widely believed that it is. Nested mutations work just fine.\n",
    "```graphql\n",
    "mutation {\n",
    "    user {\n",
    "        create # executed in arbitrary order\n",
    "        delete\n",
    "    }\n",
    "}\n",
    "```\n",
    "\n",
    "If the underlying reason is truly execution order, the client could be explicit instead.\n",
    "```graphql\n",
    "mutation {\n",
    "    created: user { # executed first\n",
    "        create\n",
    "    }\n",
    "    deleted: user {\n",
    "        delete\n",
    "    }\n",
    "}\n",
    "```\n",
    "\n",
    "There is no reason it has to influence API design.\n",
    "\n",
    "## Static methods\n",
    "At the library level, the effect is top-level resolvers are implemented as functions (or static methods), whereas all other resolver are methods. This may lead to redundant or inefficient implementations, is oddly inconsistent, and is [contrary to the documentation](https://graphql.org/learn/execution/#root-fields--resolvers).\n",
    "\n",
    "> A resolver function receives four arguments:\n",
    ">\n",
    "> `obj` The previous object, which for a field on the root Query type is often not used.\n",
    "\n",
    "Sure, \"often not used\" by the developer of the API. That does not mean \"should be unset\" by the GraphQL library, but that is what has happened. Some libraries even [exclude the object parameter](https://gqlgen.com/getting-started/#implement-the-resolvers) entirely. In object-oriented libraries like [strawberry](https://strawberry.rocks), the code looks unnatural."
   ]
  },
  {
   "cell_type": "code",
   "execution_count": 1,
   "metadata": {},
   "outputs": [
    {
     "data": {
      "text/plain": [
       "{'instance': None}"
      ]
     },
     "execution_count": 1,
     "metadata": {},
     "output_type": "execute_result"
    }
   ],
   "source": [
    "import strawberry\n",
    " \n",
    " \n",
    "@strawberry.type\n",
    "class Query:\n",
    "    @strawberry.field\n",
    "    def instance(self) -> bool | None:\n",
    "        return None if self is None else isinstance(self, Query)\n",
    "\n",
    "\n",
    "schema = strawberry.Schema(Query)\n",
    "query = '{ instance }'\n",
    "schema.execute_sync(query).data"
   ]
  },
  {
   "cell_type": "markdown",
   "metadata": {},
   "source": [
    "Strawberry allows omitting `self` for this reason, creating an implicit `staticmethod`.\n",
    "\n",
    "## Root values\n",
    "Libraries which follow the [reference javascript implementation](https://graphql.org/graphql-js/#writing-code) allow setting the root value explicitly."
   ]
  },
  {
   "cell_type": "code",
   "execution_count": 2,
   "metadata": {},
   "outputs": [
    {
     "data": {
      "text/plain": [
       "{'instance': True}"
      ]
     },
     "execution_count": 2,
     "metadata": {},
     "output_type": "execute_result"
    }
   ],
   "source": [
    "schema.execute_sync(query, root_value=Query()).data"
   ]
  },
  {
   "cell_type": "markdown",
   "metadata": {},
   "source": [
    "Strawberry unofficially supports supplying an instance, but it has no effect."
   ]
  },
  {
   "cell_type": "code",
   "execution_count": 3,
   "metadata": {},
   "outputs": [
    {
     "data": {
      "text/plain": [
       "{'instance': None}"
      ]
     },
     "execution_count": 3,
     "metadata": {},
     "output_type": "execute_result"
    }
   ],
   "source": [
    "schema = strawberry.Schema(Query())\n",
    "schema.execute_sync(query).data"
   ]
  },
  {
   "cell_type": "markdown",
   "metadata": {},
   "source": [
    "And of course `self` can be of any type."
   ]
  },
  {
   "cell_type": "code",
   "execution_count": 4,
   "metadata": {},
   "outputs": [
    {
     "data": {
      "text/plain": [
       "{'instance': False}"
      ]
     },
     "execution_count": 4,
     "metadata": {},
     "output_type": "execute_result"
    }
   ],
   "source": [
    "schema.execute_sync(query, root_value=...).data"
   ]
  },
  {
   "cell_type": "markdown",
   "metadata": {},
   "source": [
    "Moreover, the `execute` functions are for internal usage. Each library will vary in how to configure the root in a production application. Strawberry requires subclassing the application type."
   ]
  },
  {
   "cell_type": "code",
   "execution_count": 5,
   "metadata": {},
   "outputs": [],
   "source": [
    "import strawberry.asgi\n",
    "\n",
    "\n",
    "class GraphQL(strawberry.asgi.GraphQL):\n",
    "    def __init__(self, root):\n",
    "        super().__init__(strawberry.Schema(type(root)))\n",
    "        self.root_value = root\n",
    "\n",
    "    async def get_root_value(self, request):\n",
    "        return self.root_value"
   ]
  },
  {
   "cell_type": "markdown",
   "metadata": {},
   "source": [
    "## Example\n",
    "Consider a more practical example where data is loaded, and clearly should not be reloaded on each request."
   ]
  },
  {
   "cell_type": "code",
   "execution_count": 6,
   "metadata": {},
   "outputs": [],
   "source": [
    "@strawberry.type\n",
    "class Dictionary:\n",
    "    def __init__(self, source='/usr/share/dict/words'):\n",
    "        self.words = {line.strip() for line in open(source)}\n",
    "\n",
    "    @strawberry.field\n",
    "    def is_word(self, text: str) -> bool:\n",
    "        return text in self.words"
   ]
  },
  {
   "cell_type": "markdown",
   "metadata": {},
   "source": [
    "Whether `Dictionary` is the query root - or attached to the query root - it should be instantiated only once. Of course it can be cached, but again there is a more natural way to write this outside the context of GraphQL."
   ]
  },
  {
   "cell_type": "code",
   "execution_count": 7,
   "metadata": {},
   "outputs": [],
   "source": [
    "@strawberry.type\n",
    "class Query:\n",
    "    dictionary: Dictionary\n",
    "\n",
    "    def __init__(self):\n",
    "        self.dictionary = Dictionary()"
   ]
  },
  {
   "cell_type": "markdown",
   "metadata": {},
   "source": [
    "Caching, context values, and root values are all clunky workarounds compared to the consistency of letting the root be `Query()` instead of `Query`. The applications which do not require this feature would never notice the difference.\n",
    "\n",
    "The notion of \"root fields\" behaving as \"top-level functions\" has resulted in needless confusion, poorer API design, and incorrect implementations."
   ]
  }
 ],
 "metadata": {
  "kernelspec": {
   "display_name": "Python 3",
   "language": "python",
   "name": "python3"
  },
  "language_info": {
   "codemirror_mode": {
    "name": "ipython",
    "version": 3
   },
   "file_extension": ".py",
   "mimetype": "text/x-python",
   "name": "python",
   "nbconvert_exporter": "python",
   "pygments_lexer": "ipython3",
   "version": "3.12.2"
  }
 },
 "nbformat": 4,
 "nbformat_minor": 1
}
