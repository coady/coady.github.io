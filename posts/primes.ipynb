{
 "cells": [
  {
   "cell_type": "markdown",
   "source": [
    "An old interview challenge is to generate prime numbers or check if a number is prime. No advanced mathematics needed, just variants on the [Sieve of Eratosthenes](https://en.wikipedia.org/wiki/Sieve_of_Eratosthenes). Starting with a basic prime checker."
   ],
   "metadata": {}
  },
  {
   "cell_type": "code",
   "execution_count": 1,
   "source": [
    "def isprime(n):\n",
    "    divs = range(2, int(n ** 0.5) + 1)\n",
    "    return all(n % d for d in divs)\n",
    "\n",
    "%time isprime(1_000_003)"
   ],
   "outputs": [
    {
     "output_type": "stream",
     "name": "stdout",
     "text": [
      "CPU times: user 83 µs, sys: 1e+03 ns, total: 84 µs\n",
      "Wall time: 85.1 µs\n"
     ]
    },
    {
     "output_type": "execute_result",
     "data": {
      "text/plain": [
       "True"
      ]
     },
     "metadata": {},
     "execution_count": 1
    }
   ],
   "metadata": {}
  },
  {
   "cell_type": "markdown",
   "source": [
    "A common optimization is to skip even numbers."
   ],
   "metadata": {}
  },
  {
   "cell_type": "code",
   "execution_count": 2,
   "source": [
    "def isprime(n):\n",
    "    divs = range(3, int(n ** 0.5) + 1, 2)\n",
    "    return n == 2 or all(n % d for d in divs)\n",
    "\n",
    "%time isprime(1_000_003)"
   ],
   "outputs": [
    {
     "output_type": "stream",
     "name": "stdout",
     "text": [
      "CPU times: user 43 µs, sys: 0 ns, total: 43 µs\n",
      "Wall time: 46.3 µs\n"
     ]
    },
    {
     "output_type": "execute_result",
     "data": {
      "text/plain": [
       "True"
      ]
     },
     "metadata": {},
     "execution_count": 2
    }
   ],
   "metadata": {}
  },
  {
   "cell_type": "markdown",
   "source": [
    "Brief digression on that optimization. There's nothing special about removing multiples of 2; removing multiples is the whole point. The `step` scalar could instead be thought of as a cycle: `itertools.accumulate(itertools.repeat(2))`. So removing multiples of 3 would remove every third step: `itertools.accumulate(itertools.cycle([2, 4]))`.\n",
    "\n",
    "Or the equivalent could be done with slicing."
   ],
   "metadata": {}
  },
  {
   "cell_type": "code",
   "execution_count": 3,
   "source": [
    "import itertools\n",
    "\n",
    "def isprime(n):\n",
    "    divs = range(5, int(n ** 0.5) + 1, 2)\n",
    "    return n in (2, 3) or all(n % d for d in itertools.chain(divs[::3], divs[1::3]))\n",
    "\n",
    "%time isprime(1_000_003)"
   ],
   "outputs": [
    {
     "output_type": "stream",
     "name": "stdout",
     "text": [
      "CPU times: user 42 µs, sys: 1 µs, total: 43 µs\n",
      "Wall time: 44.1 µs\n"
     ]
    },
    {
     "output_type": "execute_result",
     "data": {
      "text/plain": [
       "True"
      ]
     },
     "metadata": {},
     "execution_count": 3
    }
   ],
   "metadata": {}
  },
  {
   "cell_type": "markdown",
   "source": [
    "The catch is the cycles grow exponentially with diminishing returns on each successive number.\n",
    "\n",
    "Onto prime generation, while keeping the odds-only optimization. Typically it's requested to generate the first `N` primes, or up to some value. But that's easily generalized with `itertools.islice` and `itertools.takewhile`. A more Pythonic approach is an unbounded generator."
   ],
   "metadata": {}
  },
  {
   "cell_type": "code",
   "execution_count": 4,
   "source": [
    "def primes():\n",
    "    yield 2\n",
    "    ints = itertools.count(3, 2)\n",
    "    while True:\n",
    "        prime = next(ints)\n",
    "        yield prime\n",
    "        ints = (n for n in ints if n % prime)\n",
    "\n",
    "list(itertools.islice(primes(), 10))"
   ],
   "outputs": [
    {
     "output_type": "execute_result",
     "data": {
      "text/plain": [
       "[2, 3, 5, 7, 9, 11, 13, 15, 17, 19]"
      ]
     },
     "metadata": {},
     "execution_count": 4
    }
   ],
   "metadata": {}
  },
  {
   "cell_type": "markdown",
   "source": [
    "Elegant, but doesn't work. The problem is the scoping of `prime`, which is being used in the generator expression but also modified in the loop. Instead it can be replaced with a `filter` on a partially bound function, but unfortunately `functools.partial` only binds left arguments and `rmod` is needed here. One alternative is to use bound methods as a first-class function, even dunder methods."
   ],
   "metadata": {}
  },
  {
   "cell_type": "code",
   "execution_count": 5,
   "source": [
    "def primes():\n",
    "    yield 2\n",
    "    ints = itertools.count(3, 2)\n",
    "    while True:\n",
    "        prime = next(ints)\n",
    "        yield prime\n",
    "        ints = filter(prime.__rmod__, ints)\n",
    "\n",
    "%time next(itertools.islice(primes(), 1000, None))"
   ],
   "outputs": [
    {
     "output_type": "stream",
     "name": "stdout",
     "text": [
      "CPU times: user 30.7 ms, sys: 1.82 ms, total: 32.5 ms\n",
      "Wall time: 32 ms\n"
     ]
    },
    {
     "output_type": "execute_result",
     "data": {
      "text/plain": [
       "7927"
      ]
     },
     "metadata": {},
     "execution_count": 5
    }
   ],
   "metadata": {}
  },
  {
   "cell_type": "markdown",
   "source": [
    "Elegant, but slow and could overflow the stack. A more traditional approach would use the same checking logic as `isprime`, but also cache the primes so as to not duplicate divisors."
   ],
   "metadata": {}
  },
  {
   "cell_type": "code",
   "execution_count": 6,
   "source": [
    "def primes():\n",
    "    yield 2\n",
    "    primes = []\n",
    "    for n in itertools.count(3, 2):\n",
    "        if all(n % p for p in itertools.takewhile(int(n ** 0.5).__ge__, primes)):\n",
    "            primes.append(n)\n",
    "            yield n\n",
    "\n",
    "%time next(itertools.islice(primes(), 1000, None))"
   ],
   "outputs": [
    {
     "output_type": "stream",
     "name": "stdout",
     "text": [
      "CPU times: user 5.49 ms, sys: 423 µs, total: 5.92 ms\n",
      "Wall time: 5.8 ms\n"
     ]
    },
    {
     "output_type": "execute_result",
     "data": {
      "text/plain": [
       "7927"
      ]
     },
     "metadata": {},
     "execution_count": 6
    }
   ],
   "metadata": {}
  },
  {
   "cell_type": "markdown",
   "source": [
    "Onto interface design. The primes are being stored anyway, so it would be nice if they were re-iterable. A generator can be written as a class with `__iter__` and `__next__`, but an under-appreciated feature is that `__iter__` itself can be a generator. And now that it's a class, `isprime` can be expressed as `in` while also benefiting from the cache."
   ],
   "metadata": {}
  },
  {
   "cell_type": "code",
   "execution_count": 7,
   "source": [
    "class Primes:\n",
    "    def __init__(self):\n",
    "        self.ints = itertools.count(3, 2)\n",
    "        self.cache = [2]\n",
    "    \n",
    "    def __iter__(self):\n",
    "        yield from self.cache\n",
    "        for n in self.ints:\n",
    "            if n in self:\n",
    "                self.cache.append(n)\n",
    "                yield n\n",
    "\n",
    "    def __contains__(self, n):\n",
    "        return all(n % p for p in itertools.takewhile(int(n ** 0.5).__ge__, self))\n",
    "\n",
    "primes = Primes()\n",
    "%time next(itertools.islice(primes, 1000, None))"
   ],
   "outputs": [
    {
     "output_type": "stream",
     "name": "stdout",
     "text": [
      "CPU times: user 7.89 ms, sys: 483 µs, total: 8.37 ms\n",
      "Wall time: 8 ms\n"
     ]
    },
    {
     "output_type": "execute_result",
     "data": {
      "text/plain": [
       "7927"
      ]
     },
     "metadata": {},
     "execution_count": 7
    }
   ],
   "metadata": {}
  },
  {
   "cell_type": "code",
   "execution_count": 8,
   "source": [
    "%time 1_000_003 in primes"
   ],
   "outputs": [
    {
     "output_type": "stream",
     "name": "stdout",
     "text": [
      "CPU times: user 34 µs, sys: 0 ns, total: 34 µs\n",
      "Wall time: 37 µs\n"
     ]
    },
    {
     "output_type": "execute_result",
     "data": {
      "text/plain": [
       "True"
      ]
     },
     "metadata": {},
     "execution_count": 8
    }
   ],
   "metadata": {}
  },
  {
   "cell_type": "markdown",
   "source": [
    "There's a hybrid approach though, that's faster and nearly as simple as the above sieves. Instead of doing repeated divisions, keep track of each found prime along with the next multiple that it would eliminate. The inner loop is then optimized because it only needs to account for collisions."
   ],
   "metadata": {}
  },
  {
   "cell_type": "code",
   "execution_count": 9,
   "source": [
    "def primes():\n",
    "    multiples = {}\n",
    "    for n in itertools.count(2):\n",
    "        prime = multiples.pop(n, 0)\n",
    "        if not prime:\n",
    "            prime = n\n",
    "            yield n\n",
    "        key = n + prime\n",
    "        while key in multiples:\n",
    "            key += prime\n",
    "        multiples[key] = prime\n",
    "\n",
    "%time next(itertools.islice(primes(), 1000, None))"
   ],
   "outputs": [
    {
     "output_type": "stream",
     "name": "stdout",
     "text": [
      "CPU times: user 2.59 ms, sys: 103 µs, total: 2.69 ms\n",
      "Wall time: 2.7 ms\n"
     ]
    },
    {
     "output_type": "execute_result",
     "data": {
      "text/plain": [
       "7927"
      ]
     },
     "metadata": {},
     "execution_count": 9
    }
   ],
   "metadata": {}
  },
  {
   "cell_type": "markdown",
   "source": [
    "Now to add back the odds-only optimization, the step scalar needs to be double the prime number. Another way to reduce collisions is to recognize that each new prime is irrelevant until its square value is reached."
   ],
   "metadata": {}
  },
  {
   "cell_type": "code",
   "execution_count": 10,
   "source": [
    "def primes():\n",
    "    yield 2\n",
    "    multiples = {}\n",
    "    for n in itertools.count(3, 2):\n",
    "        step = multiples.pop(n, 0)\n",
    "        if step:  # composite\n",
    "            key = n + step\n",
    "            while key in multiples:\n",
    "                key += step\n",
    "            multiples[key] = step\n",
    "        else:  # prime\n",
    "            multiples[n ** 2] = n * 2\n",
    "            yield n\n",
    "\n",
    "%time next(itertools.islice(primes(), 1000, None))"
   ],
   "outputs": [
    {
     "output_type": "stream",
     "name": "stdout",
     "text": [
      "CPU times: user 1.37 ms, sys: 5 µs, total: 1.38 ms\n",
      "Wall time: 1.38 ms\n"
     ]
    },
    {
     "output_type": "execute_result",
     "data": {
      "text/plain": [
       "7927"
      ]
     },
     "metadata": {},
     "execution_count": 10
    }
   ],
   "metadata": {}
  },
  {
   "cell_type": "markdown",
   "source": [
    "And finally let's add back the caching. Yielding a clean interface, an efficient implementation for all use cases, and still relatively simple."
   ],
   "metadata": {}
  },
  {
   "cell_type": "code",
   "execution_count": 11,
   "source": [
    "class Primes:\n",
    "    def __init__(self):\n",
    "        self.ints = itertools.count(3, 2)\n",
    "        self.cache = [2]\n",
    "        self.multiples = {}\n",
    "    \n",
    "    def __iter__(self):\n",
    "        yield from self.cache\n",
    "        for n in self.ints:\n",
    "            step = self.multiples.pop(n, 0)\n",
    "            if step:  # composite\n",
    "                key = n + step\n",
    "                while key in self.multiples:\n",
    "                    key += step\n",
    "                self.multiples[key] = step\n",
    "            else:  # prime\n",
    "                self.multiples[n ** 2] = n * 2\n",
    "                self.cache.append(n)\n",
    "                yield n\n",
    "\n",
    "    def __contains__(self, n):\n",
    "        return all(n % p for p in itertools.takewhile(int(n ** 0.5).__ge__, self))\n",
    "\n",
    "primes = Primes()\n",
    "%time 1_000_003 in primes"
   ],
   "outputs": [
    {
     "output_type": "stream",
     "name": "stdout",
     "text": [
      "CPU times: user 242 µs, sys: 0 ns, total: 242 µs\n",
      "Wall time: 245 µs\n"
     ]
    },
    {
     "output_type": "execute_result",
     "data": {
      "text/plain": [
       "True"
      ]
     },
     "metadata": {},
     "execution_count": 11
    }
   ],
   "metadata": {}
  },
  {
   "cell_type": "code",
   "execution_count": 12,
   "source": [
    "%time 1_000_003 in primes"
   ],
   "outputs": [
    {
     "output_type": "stream",
     "name": "stdout",
     "text": [
      "CPU times: user 40 µs, sys: 0 ns, total: 40 µs\n",
      "Wall time: 43.2 µs\n"
     ]
    },
    {
     "output_type": "execute_result",
     "data": {
      "text/plain": [
       "True"
      ]
     },
     "metadata": {},
     "execution_count": 12
    }
   ],
   "metadata": {}
  }
 ],
 "metadata": {
  "kernelspec": {
   "name": "python3",
   "display_name": "Python 3.9.6 64-bit"
  },
  "nikola": {
   "category": "interviews",
   "date": "2021-07-10",
   "description": "",
   "link": "",
   "slug": "primes",
   "tags": "",
   "title": "Primes",
   "type": "text"
  },
  "language_info": {
   "name": "python",
   "version": "3.9.6"
  },
  "interpreter": {
   "hash": "aee8b7b246df8f9039afb4144a1f6fd8d2ca17a180786b69acc140d282b71a49"
  }
 },
 "nbformat": 4,
 "nbformat_minor": 4
}