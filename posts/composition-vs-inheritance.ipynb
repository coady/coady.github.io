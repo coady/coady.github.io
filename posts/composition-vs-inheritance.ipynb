{
 "cells": [
  {
   "cell_type": "raw",
   "metadata": {},
   "source": [
    "---\n",
    "title: Composition vs. inheritance\n",
    "subtitle: Contrarian view on composition over inheritance.\n",
    "author: A. Coady\n",
    "date: 2023-11-18\n",
    "categories: [style]\n",
    "---"
   ]
  },
  {
   "cell_type": "markdown",
   "metadata": {
    "collapsed": true
   },
   "source": [
    "# Contrarian view on composition over inheritance.\n",
    "The conventional wisdom is to prefer [composition over inheritance](https://en.wikipedia.org/wiki/Composition_over_inheritance). More specifically to use [delegation](https://en.wikipedia.org/wiki/Delegation_pattern) over single inheritance.\n",
    "\n",
    "Like the recommendation on [closing files](closing-files.html), the advice is well-intentioned but omits the fact that Python does not support it well. Python has no mechanism for embedding or forwarding methods. And the despite its famous [duck-typing](https://docs.python.org/3/glossary.html#term-duck-typing), there are many cases where a type must be subclassed to be [substitutable](https://en.wikipedia.org/wiki/Liskov_substitution_principle) (particularly if implemented in CPython). \n",
    "\n",
    "The below example comes from a popular [PyCon](https://pycon.org) talk called [Beyond PEP 8](https://www.youtube.com/watch?v=wf-BqAjZb8M). The goal is [adapt a Java-esque interface](https://www.shawnxli.com/posts/beyond-pep-8/) into pythonic code.\n",
    "\n",
    "## Original implementation"
   ]
  },
  {
   "cell_type": "code",
   "execution_count": null,
   "metadata": {},
   "outputs": [],
   "source": [
    "import jnettool.tools.elements.NetworkElement\n",
    "import jnettool.tools.Routing\n",
    "import jnettool.tools.RouteInsector\n",
    "\n",
    "ne = jnettool.tools.elements.NetworkElement('171.0.2.45')\n",
    "\n",
    "try:\n",
    "    routing_table = ne.getRoutingTable()\n",
    "except jnettool.tools.elements.MissingVar:\n",
    "    logging.exception('No routing table found')\n",
    "    ne.cleanup('rollback')\n",
    "else:\n",
    "    num_routes = routing_table.getSize()\n",
    "    for RToffset in range(num_routes):\n",
    "        route = routing_table.getRouteByIndex(RToffset)\n",
    "        name = route.getName()\n",
    "        ipaddr = route.getIPAddr()\n",
    "        print \"%15s -> %s\" % (name, ipaddr)\n",
    "finally:\n",
    "    ne.cleanup('commit')\n",
    "    ne.disconnect()"
   ]
  },
  {
   "cell_type": "markdown",
   "metadata": {},
   "source": [
    "## Proposed interface"
   ]
  },
  {
   "cell_type": "code",
   "execution_count": null,
   "metadata": {},
   "outputs": [],
   "source": [
    "from nettools import NetworkElement\n",
    "\n",
    "with NetworkElement('171.0.2.45') as ne:\n",
    "    for route in ne.routing_table:\n",
    "        print \"%15s -> %s\" % (route.name, route.ipaddr)"
   ]
  },
  {
   "cell_type": "markdown",
   "metadata": {},
   "source": [
    "## Proposed solution"
   ]
  },
  {
   "cell_type": "code",
   "execution_count": null,
   "metadata": {
    "collapsed": true
   },
   "outputs": [],
   "source": [
    "import jnetool.tools.elements.NetworkElement\n",
    "import jnetool.tools.Routing\n",
    "\n",
    "class NetworkElementError(Exception):\n",
    "    pass\n",
    "\n",
    "class NetworkElement(object):\n",
    "\n",
    "    def __init__(self, ipaddr):\n",
    "        self.ipaddr = ipaddr\n",
    "        self.oldne = jnetool.tools.elements.NetworkElement(ipaddr)\n",
    "\n",
    "    @property\n",
    "    def routing_table(self):\n",
    "        try:\n",
    "            return RoutingTable(self.oldne.getRoutingTable())\n",
    "        except jnetool.tools.elements.MissingVar:\n",
    "            raise NetworkElementError('No routing table found')\n",
    "\n",
    "    def __enter__(self):\n",
    "        return self\n",
    "\n",
    "    def __exit__(self, exctype, excinst, exctb):\n",
    "        if exctype == NetworkElementError:\n",
    "            logging.exception('No routing table found')\n",
    "            self.oldne.cleanup('rollback')\n",
    "        else:\n",
    "            self.oldne.cleanup('commit')\n",
    "        self.oldne.disconnect()\n",
    "\n",
    "    def __repr__(self):\n",
    "        return '%s(%r)' % (self.__class__.__name__, self.ipaddr)\n",
    "\n",
    "\n",
    "class RoutingTable(object):\n",
    "\n",
    "    def __init__(self, oldrt):\n",
    "        self.oldrt = oldrt\n",
    "\n",
    "    def __len__(self):\n",
    "        return self.oldrt.getSize()\n",
    "\n",
    "    def __getitem__(self, index):\n",
    "        if index >= len(self):\n",
    "            raise IndexError\n",
    "        return Route(self.oldrt.getRouteByIndex(index))\n",
    "\n",
    "\n",
    "class Route(object):\n",
    "\n",
    "    def __init__(self, old_route):\n",
    "        self.old_route = old_route\n",
    "\n",
    "    @property\n",
    "    def name(self):\n",
    "        return self.old_route.getName()\n",
    "\n",
    "    @property\n",
    "    def ipaddr(self):\n",
    "        return self.old_route.getIPAddr()"
   ]
  },
  {
   "cell_type": "markdown",
   "metadata": {},
   "source": [
    "No dispute that the interface is superior, but the implementation is using delegation as if it is dogma. The usage pattern has to be extrapolated from one example, but here are the issues:\n",
    "\n",
    "* Custom exceptions are not helpful if they do nothing. The consumer of this code _does not_ use `NetworkElementError`, and has lost the traceback if it did. Error hiding is not error handling.\n",
    "* Comparing classes with `==` is widely considered an anti-pattern, as opposed to `is` or `issubclass`.\n",
    "* The `Route` object doesn't need to delegate. There is no reason to assume that the underlying attribute access must be lazy, particularly since the iteration could be lazy instead. A named tuple or dataclass would suffice here.\n",
    "* The `RoutingTable` object doesn't need to delegate. There is no need to support random access or lazy evaluation. Its only addition to the interface is to be sequence-like, which could be trivially accomplished by a sequence.\n",
    "* The `NetworkElement` doesn't need to delegate. It has the same name, same constructor, a `repr` designed to appear as the original, and only extends behavior. If this doesn't pass as an `is-a` relation, nothing does.\n",
    "\n",
    "## Simple solution"
   ]
  },
  {
   "cell_type": "code",
   "execution_count": null,
   "metadata": {
    "collapsed": true
   },
   "outputs": [],
   "source": [
    "import collections\n",
    "from jnettool.tools import elements\n",
    "\n",
    "Route = collections.namedtuple('Route', ['name', 'ipaddr'])\n",
    "\n",
    "class NetworkElement(elements.NetworkElement):\n",
    "    @property\n",
    "    def routing_table(self):\n",
    "        table = self.getRoutingTable()\n",
    "        routes = map(table.getRouteByIndex, range(table.getSize()))\n",
    "        return [Route(route.getName(), route.getIPAddr()) for route in routes]\n",
    "\n",
    "    def __enter__(self):\n",
    "        return self\n",
    "\n",
    "    def __exit__(self, exc_type, exc_val, exc_tb):\n",
    "        if isinstance(exc_val, elements.MissingVar):\n",
    "            logging.exception(\"No routing table found\")\n",
    "            self.cleanup('rollback')\n",
    "        else:\n",
    "            self.cleanup('commit')\n",
    "        self.disconnect()"
   ]
  },
  {
   "cell_type": "markdown",
   "metadata": {},
   "source": [
    "Which version is more maintainable? Surely the simpler one.\n",
    "\n",
    "Which version is more extensible? Well, by whom? The implementor can extend either just as easily. The caller can use the inherited version without losing any functionality.\n",
    "\n",
    "So a better question might be which version is more flexible or reusable? Surely the inherited version, because the delegated version would need to access `oldne`. Even naming the delegate is a pain point, because one has to decide if it is a part of the public interface or not. Should it have 0, 1, or 2 leading underscores? Delegation is often touted as achieving both encapsulation and extensibility, despite being opposing goals.\n",
    "\n",
    "Finally, there is also a simpler interface, again with the caveat that there is only one usage example. An iterable of 2-field objects, one of which is called `name`, and \"points to\" the other field. Sounds like a mapping."
   ]
  },
  {
   "cell_type": "code",
   "execution_count": null,
   "metadata": {},
   "outputs": [],
   "source": [
    "class NetworkElement(elements.NetworkElement):\n",
    "    @property\n",
    "    def routing_table(self):\n",
    "        table = self.getRoutingTable()\n",
    "        routes = map(table.getRouteByIndex, range(table.getSize()))\n",
    "        return {route.getName(): route.getIPAddr() for route in routes}\n",
    "    ..."
   ]
  }
 ],
 "metadata": {
  "kernelspec": {
   "display_name": "Python 3",
   "language": "python",
   "name": "python3"
  },
  "language_info": {
   "codemirror_mode": {
    "name": "ipython",
    "version": 3
   },
   "file_extension": ".py",
   "mimetype": "text/x-python",
   "name": "python",
   "nbconvert_exporter": "python",
   "pygments_lexer": "ipython3",
   "version": "3.12.0"
  }
 },
 "nbformat": 4,
 "nbformat_minor": 1
}
