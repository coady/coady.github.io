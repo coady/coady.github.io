{
 "cells": [
  {
   "attachments": {},
   "cell_type": "raw",
   "metadata": {},
   "source": [
    "---\n",
    "title: Random Selection\n",
    "subtitle: Generate random numbers efficiently.\n",
    "author: A. Coady\n",
    "date: 2023-01-02\n",
    "categories: [interviews]\n",
    "---"
   ]
  },
  {
   "attachments": {},
   "cell_type": "markdown",
   "metadata": {},
   "source": [
    "Random selection utilities used to be common in interviews. Less so in Python circles because of the builtin `random` module. Still advanced examples may come up. First is a generalization of `shuffle` and `sample`."
   ]
  },
  {
   "cell_type": "code",
   "execution_count": 1,
   "metadata": {},
   "outputs": [
    {
     "data": {
      "text/plain": [
       "[9, 7, 5, 4, 6]"
      ]
     },
     "execution_count": 1,
     "metadata": {},
     "output_type": "execute_result"
    }
   ],
   "source": [
    "import itertools\n",
    "import random\n",
    "\n",
    "def shuffled(iterable):\n",
    "    \"\"\"Generate values in random order for any iterable.\n",
    "    \n",
    "    Faster than `random.shuffle` if not all values are required.\n",
    "    More flexible than `random.sample` if the desired number is unknown a priori.\n",
    "    \"\"\"\n",
    "    values = list(iterable)\n",
    "    while values:\n",
    "        index = random.randrange(0, len(values))\n",
    "        values[index], values[-1] = values[-1], values[index]\n",
    "        yield values.pop()\n",
    "\n",
    "list(itertools.islice(shuffled(range(10)), 5))"
   ]
  },
  {
   "attachments": {},
   "cell_type": "markdown",
   "metadata": {},
   "source": [
    "Next up is a random sample in a single pass, e.g., if the data is being read from a large file. The solution requires [mathematical induction](https://en.wikipedia.org/wiki/Mathematical_induction):\n",
    "\n",
    "* each Nth element has a fair chance of being selected\n",
    "* each previously selected element has a fair chance of being removed"
   ]
  },
  {
   "cell_type": "code",
   "execution_count": 2,
   "metadata": {},
   "outputs": [
    {
     "data": {
      "text/plain": [
       "[1, 2, 6, 3, 8]"
      ]
     },
     "execution_count": 2,
     "metadata": {},
     "output_type": "execute_result"
    }
   ],
   "source": [
    "def sample(iterable, k):\n",
    "    \"\"\"Return a random sample from any iterable in a single pass.\n",
    "    \n",
    "    More memory efficient than `random.sample`.\n",
    "    \"\"\"\n",
    "    it = iter(iterable)\n",
    "    selection = list(itertools.islice(it, k))\n",
    "    # error handling and shuffling are consistent with random.sample\n",
    "    if not 0 <= k <= len(selection):\n",
    "        raise ValueError(\"sample larger than population\")\n",
    "    random.shuffle(selection)\n",
    "    for count, value in enumerate(it, k + 1):\n",
    "        index = random.randrange(0, count)\n",
    "        if index < len(selection):\n",
    "            selection[index] = value\n",
    "    return selection\n",
    "\n",
    "sample(iter(range(10)), 5)"
   ]
  }
 ],
 "metadata": {
  "kernelspec": {
   "display_name": ".venv",
   "language": "python",
   "name": "python3"
  },
  "language_info": {
   "codemirror_mode": {
    "name": "ipython",
    "version": 3
   },
   "file_extension": ".py",
   "mimetype": "text/x-python",
   "name": "python",
   "nbconvert_exporter": "python",
   "pygments_lexer": "ipython3",
   "version": "3.11.1 (main, Dec 23 2022, 09:28:24) [Clang 14.0.0 (clang-1400.0.29.202)]"
  },
  "vscode": {
   "interpreter": {
    "hash": "b42949fdd9e9e72618f180a9b3a935a09c68d1cd887a0d7748992ebcb7e8c3cb"
   }
  }
 },
 "nbformat": 4,
 "nbformat_minor": 2
}
