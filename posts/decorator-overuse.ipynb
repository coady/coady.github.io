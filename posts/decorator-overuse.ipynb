{
 "cells": [
  {
   "attachments": {},
   "cell_type": "raw",
   "metadata": {},
   "source": [
    "---\n",
    "title: Decorator overuse\n",
    "subtitle: Decorators versus blocks and partial functions.\n",
    "author: A. Coady\n",
    "date: 2023-03-04\n",
    "categories: [style]\n",
    "---"
   ]
  },
  {
   "attachments": {},
   "cell_type": "markdown",
   "metadata": {},
   "source": [
    "# Decorators versus blocks and partial functions.\n",
    "Decorators are a beloved feature of Python, but like any good thing can be overused. The key is acknowledging that decorators are [just functions](https://docs.python.org/3/glossary.html#term-decorator).\n",
    "\n",
    "> A function returning another function, usually applied as a function transformation using the @wrapper syntax. Common examples for decorators are classmethod() and staticmethod().\n",
    ">\n",
    "> The decorator syntax is merely syntactic sugar, the following two function definitions are semantically equivalent:\n",
    "> ``` python\n",
    "> def f(arg):\n",
    ">    ...\n",
    "> f = staticmethod(f)\n",
    ">\n",
    ">@staticmethod\n",
    ">def f(arg):\n",
    ">    ...\n",
    "> ```\n",
    "\n",
    "## Renamed\n",
    "So the critical feature of the `@` syntax is to retain the defined object's name; otherwise it is just a function call. Which leads to the first example of overuse: defining a new object just to change the name. Consider this example adapted from a [popular project](https://github.com/psf/requests)."
   ]
  },
  {
   "cell_type": "code",
   "execution_count": null,
   "metadata": {},
   "outputs": [],
   "source": [
    "class Response:\n",
    "    def __bool__(self):\n",
    "        return self.ok\n",
    "\n",
    "    @property\n",
    "    def ok(self):\n",
    "        ..."
   ]
  },
  {
   "attachments": {},
   "cell_type": "markdown",
   "metadata": {},
   "source": [
    "Since a `property` wraps a function, it is natural to make the function have the implementation instead. Then it becomes clear that the `property` does not share the same name, so why bother with `@`."
   ]
  },
  {
   "cell_type": "code",
   "execution_count": null,
   "metadata": {},
   "outputs": [],
   "source": [
    "class Response:\n",
    "    def __bool__(self):\n",
    "        ...\n",
    "\n",
    "    ok = property(__bool__)"
   ]
  },
  {
   "attachments": {},
   "cell_type": "markdown",
   "metadata": {},
   "source": [
    "A related scenario is where the local name of the function is irrelevant, which is typical in [wrapped functions](https://docs.python.org/3/library/functools.html#functools.wraps):\n",
    "\n",
    "> @functools.wraps(wrapped, assigned=WRAPPER_ASSIGNMENTS, updated=WRAPPER_UPDATES)\n",
    ">\n",
    "> This is a convenience function for invoking update_wrapper() as a function decorator when defining a wrapper function. It is equivalent to partial(update_wrapper, wrapped=wrapped, assigned=assigned, updated=updated). For example:\n",
    ">\n",
    "> ```python\n",
    "> >>> from functools import wraps\n",
    "> >>> def my_decorator(f):\n",
    "> ...     @wraps(f)\n",
    "> ...     def wrapper(*args, **kwds):\n",
    "> ...         print('Calling decorated function')\n",
    "> ...         return f(*args, **kwds)\n",
    "> ...     return wrapper\n",
    "> ```\n",
    "\n",
    "The \"convenience function\" is useless indirection when the wrapper is immediately returned. Even the documentation points out that `wraps` is just a `partial` function. The example could be simply:"
   ]
  },
  {
   "cell_type": "code",
   "execution_count": null,
   "metadata": {},
   "outputs": [],
   "source": [
    "def my_decorator(f):\n",
    "    def wrapper(*args, **kwds):\n",
    "        print('Calling decorated function')\n",
    "        return f(*args, **kwds)\n",
    "    return update_wrapper(wrapper, f)"
   ]
  },
  {
   "attachments": {},
   "cell_type": "markdown",
   "metadata": {},
   "source": [
    "Giving `partial(update_wrapper, wrapped=f)` a short name does not make it any clearer conceptually.\n",
    "\n",
    "## With blocks\n",
    "Another sign is if the decorator's functionality only executes code before or after the wrapped function. Context managers are inherently more flexible by providing the same functionality for any code block. In some cases a function boundary is natural to bookend, e.g., logging or timing. The question is whether the function block is too broad a context to manage.\n",
    "\n",
    "Decorators were introduced in [version 2.4](https://nedbatchelder.com/text/which-py.html#h_25_september_19th_2006); context managers in 2.5. All ancient history now, but decorators had a ~2 year head start. For example, transactions are a [seminal use case for context managers](https://docs.python.org/3/whatsnew/2.5.html#writing-context-managers), but [Django](https://www.djangoproject.com) pre-dates 2.5, so it had a transaction decorator first. This is how [transactions are currently presented](https://docs.djangoproject.com/en/4.1/topics/db/transactions/):\n",
    "\n",
    "> atomic is usable both as a decorator:\n",
    ">\n",
    "> ```python\n",
    "> from django.db import transaction\n",
    "> \n",
    "> @transaction.atomic\n",
    "> def viewfunc(request):\n",
    ">     # This code executes inside a transaction.\n",
    ">    do_stuff()\n",
    "> ```\n",
    "> and as a context manager:\n",
    ">\n",
    "> ```python\n",
    "> from django.db import transaction\n",
    ">\n",
    "> def viewfunc(request):\n",
    ">     # This code executes in autocommit mode (Django's default).\n",
    ">     do_stuff()\n",
    ">\n",
    ">     with transaction.atomic():\n",
    ">         # This code executes inside a transaction.\n",
    ">         do_more_stuff()\n",
    "> ```\n",
    "\n",
    "So it has both, but the decorator is presented first, and is it a good example? Seems likely that a full request would have setup and teardown work that is unrelated to a database transaction. It is uncontroversial to want `try` blocks to be as narrow as possible. Surely there is no benefit to a request operation rolling back a vacuous transaction, nor a response operation rolling back a transaction that was committable.\n",
    "\n",
    "Any context manager can be trivially transformed into a decorator; the converse is not true. And even if the function block is _coincidentally_ perfect, a `with` block has negligible impact on readability. It is just indentation.\n",
    "\n",
    "## Partial functions\n",
    "Next is a lack of appreciation of partially bound functions. Many decorator examples go out of their way to write an unnecessary `def` statement, in order to make using a decorator look natural. The below example is common in [Python tutorials](https://realpython.com/primer-on-python-decorators/#decorators-with-arguments)."
   ]
  },
  {
   "cell_type": "code",
   "execution_count": 1,
   "metadata": {},
   "outputs": [
    {
     "name": "stdout",
     "output_type": "stream",
     "text": [
      "Hello World\n",
      "Hello World\n",
      "Hello World\n",
      "Hello World\n"
     ]
    }
   ],
   "source": [
    "import functools\n",
    "\n",
    "def repeat(num_times):\n",
    "    def decorator_repeat(func):\n",
    "        @functools.wraps(func)\n",
    "        def wrapper_repeat(*args, **kwargs):\n",
    "            for _ in range(num_times):\n",
    "                value = func(*args, **kwargs)\n",
    "            return value\n",
    "        return wrapper_repeat\n",
    "    return decorator_repeat\n",
    "\n",
    "@repeat(num_times=4)\n",
    "def greet(name):\n",
    "    print(f\"Hello {name}\")\n",
    "\n",
    "greet(\"World\")"
   ]
  },
  {
   "attachments": {},
   "cell_type": "markdown",
   "metadata": {},
   "source": [
    "First the obligatory observation that abstracting a `for` loop in Python is not necessarily a good idea. But assuming that is the goal, it is still worth questioning why repeating 4 times is coupled to the name `greet`. Is `print` supposed to represent the \"real\" function in this example, or should the wrapped function be named `greet_4x`? It is much simpler to start with the basic functionality and postpone how to wrap it."
   ]
  },
  {
   "cell_type": "code",
   "execution_count": 2,
   "metadata": {},
   "outputs": [
    {
     "name": "stdout",
     "output_type": "stream",
     "text": [
      "Hello World\n",
      "Hello World\n",
      "Hello World\n",
      "Hello World\n"
     ]
    }
   ],
   "source": [
    "def repeat(num_times, func, *args, **kwargs):\n",
    "    for _ in range(num_times):\n",
    "        value = func(*args, **kwargs)\n",
    "    return value\n",
    "\n",
    "def greet(name):\n",
    "    print(f\"Hello {name}\")\n",
    "\n",
    "repeat(4, greet, \"World\")"
   ]
  },
  {
   "attachments": {},
   "cell_type": "markdown",
   "metadata": {},
   "source": [
    "We can stop there really. But even assuming that the goal is to bind the repetition, using partial functions is still simpler."
   ]
  },
  {
   "cell_type": "code",
   "execution_count": 3,
   "metadata": {},
   "outputs": [
    {
     "name": "stdout",
     "output_type": "stream",
     "text": [
      "Hello World\n",
      "Hello World\n",
      "Hello World\n",
      "Hello World\n"
     ]
    }
   ],
   "source": [
    "from functools import partial\n",
    "\n",
    "greet_4x = partial(repeat, 4, greet)\n",
    "greet_4x(\"World\")"
   ]
  },
  {
   "attachments": {},
   "cell_type": "markdown",
   "metadata": {},
   "source": [
    "Not exactly the same without `wraps`, but that would be trivial to add. Futhermore it is less useful because `partial` objects can be easily introspected. Now onto the next - and dubious - assumption: that we _really_ want it used as a decorator. This requires assuming the body of `greet` is not a simple call to an underlying wrapped function, and yet for some reason the repetition is supposed to be coupled to the wrapper function's name anyway. Still simpler:"
   ]
  },
  {
   "cell_type": "code",
   "execution_count": 4,
   "metadata": {},
   "outputs": [
    {
     "name": "stdout",
     "output_type": "stream",
     "text": [
      "Hello World\n",
      "Hello World\n",
      "Hello World\n",
      "Hello World\n"
     ]
    }
   ],
   "source": [
    "repeats = partial(partial, repeat, 4)\n",
    "\n",
    "@repeats\n",
    "def greet(name):\n",
    "    print(f\"Hello {name}\")\n",
    "\n",
    "greet(\"World\")"
   ]
  },
  {
   "attachments": {},
   "cell_type": "markdown",
   "metadata": {},
   "source": [
    "Nested partials may appear a little too clever, but they are just the flatter version of the original nested `repeat` functions. And again, none of this indirection is necessary.\n",
    "\n",
    "## For loops\n",
    "A real-world example of `repeat` is [retrying functions](https://wiki.python.org/moin/PythonDecoratorLibrary#Retry) until success, optionally with delays. A [popular one](https://github.com/litl/backoff) uses examples like:"
   ]
  },
  {
   "cell_type": "code",
   "execution_count": null,
   "metadata": {},
   "outputs": [],
   "source": [
    "@backoff.on_exception(backoff.expo, requests.exceptions.RequestException)\n",
    "def get_url(url):\n",
    "    return requests.get(url)"
   ]
  },
  {
   "attachments": {},
   "cell_type": "markdown",
   "metadata": {},
   "source": [
    "The same pattern (ahem) repeats. The decorated function is a trivial wrapper around the \"real\" function. Why not:"
   ]
  },
  {
   "cell_type": "code",
   "execution_count": null,
   "metadata": {},
   "outputs": [],
   "source": [
    "get_url = backoff.on_exception(backoff.expo, requests.exceptions.RequestException)(requests.get)"
   ]
  },
  {
   "attachments": {},
   "cell_type": "markdown",
   "metadata": {},
   "source": [
    "Furthermore, `for` loops can be customized via the `__iter__` protocol, just as `with` blocks are customizable. The author's [waiter](https://coady.github.io/waiter/examples/) package demonstrates the same functionality with `for` loops and undecorated functions.\n",
    "\n",
    "# Advocacy\n",
    "So before assuming a decorator is the right abstraction, start with whether a `def` function is the right abstraction. Building out functionality in this progression works well:\n",
    "\n",
    "1. code blocks: `with` and `for` and customizable\n",
    "1. flat functions\n",
    "1. nested functions: using `partial`\n",
    "1. decorated functions"
   ]
  }
 ],
 "metadata": {
  "kernelspec": {
   "display_name": ".venv",
   "language": "python",
   "name": "python3"
  },
  "language_info": {
   "codemirror_mode": {
    "name": "ipython",
    "version": 3
   },
   "file_extension": ".py",
   "mimetype": "text/x-python",
   "name": "python",
   "nbconvert_exporter": "python",
   "pygments_lexer": "ipython3",
   "version": "3.11.2"
  },
  "vscode": {
   "interpreter": {
    "hash": "fe1d9005a8a33982f05f67810ca98c5c9c7de363fa0f442feea70330697eb4e5"
   }
  }
 },
 "nbformat": 4,
 "nbformat_minor": 2
}
